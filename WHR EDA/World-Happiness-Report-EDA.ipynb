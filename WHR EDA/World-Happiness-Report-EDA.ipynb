{
 "cells": [
  {
   "cell_type": "markdown",
   "id": "f64c5ab9",
   "metadata": {},
   "source": [
    "## **EDA de World Happiness — Exploración y hallazgos iniciales**\n",
    "\n",
    "**Autor/a:** Javiera González Reyes  \n",
    "**Curso:** DataLab / Python para Data Science  \n",
    "**Fecha:** [12-09-2025]  \n",
    "**Fuente de datos:** Kaggle — [Enlace al dataset]()"
   ]
  },
  {
   "cell_type": "markdown",
   "id": "413db013",
   "metadata": {},
   "source": [
    "### **Resumen**\n",
    "\n",
    "Este cuaderno presenta un **Análisis Exploratorio de Datos (EDA)** sobre el conjunto **[World Happiness Reporte 2015-2024]**, con el objetivo de comprender su estructura, calidad y patrones relevantes para una toma de decisiones informada. Se describe el contexto del problema, se identifican variables clave (numéricas y categóricas), y se exponen hallazgos descriptivos preliminares mediante estadísticas, visualizaciones y pruebas básicas de supuestos.\n",
    "\n",
    "El trabajo enfatiza la **limpieza de datos** (nulos, outliers, duplicados), la **exploración multivariada** (correlaciones, relaciones entre variables) y, cuando corresponde, la **dimensión temporal/geográfica**. El resultado esperado es un conjunto de insights accionables y recomendaciones para etapas posteriores (modelado o decisiones de negocio), acompañado de gráficos claros y una narrativa que comunique las conclusiones de forma rigurosa y accesible."
   ]
  },
  {
   "cell_type": "code",
   "execution_count": 1,
   "id": "6cb583f1",
   "metadata": {},
   "outputs": [],
   "source": [
    "import numpy as np\n",
    "import pandas as pd\n",
    "import matplotlib.pyplot as plt\n",
    "import seaborn as sns\n",
    "import plotly.express as px"
   ]
  },
  {
   "cell_type": "code",
   "execution_count": 10,
   "id": "358fd1e6",
   "metadata": {},
   "outputs": [],
   "source": [
    "df = pd.read_csv(\"data/world_happiness_2020.csv\")"
   ]
  },
  {
   "cell_type": "code",
   "execution_count": null,
   "id": "f6ceee62",
   "metadata": {},
   "outputs": [
    {
     "data": {
      "text/html": [
       "<div>\n",
       "<style scoped>\n",
       "    .dataframe tbody tr th:only-of-type {\n",
       "        vertical-align: middle;\n",
       "    }\n",
       "\n",
       "    .dataframe tbody tr th {\n",
       "        vertical-align: top;\n",
       "    }\n",
       "\n",
       "    .dataframe thead th {\n",
       "        text-align: right;\n",
       "    }\n",
       "</style>\n",
       "<table border=\"1\" class=\"dataframe\">\n",
       "  <thead>\n",
       "    <tr style=\"text-align: right;\">\n",
       "      <th></th>\n",
       "      <th></th>\n",
       "      <th></th>\n",
       "      <th></th>\n",
       "      <th></th>\n",
       "      <th></th>\n",
       "      <th>Ranking;Country;Regional indicator;Happiness score;GDP per capita;Social support;Healthy life expectancy;Freedom to make life choices;Generosity;Perceptions of corruption;Year</th>\n",
       "    </tr>\n",
       "  </thead>\n",
       "  <tbody>\n",
       "    <tr>\n",
       "      <th>1;Switzerland;Western Europe;7</th>\n",
       "      <th>58700;8</th>\n",
       "      <th>26132;0</th>\n",
       "      <th>96240;73;0</th>\n",
       "      <th>99379;0</th>\n",
       "      <th>37289;0</th>\n",
       "      <td>23941;2015</td>\n",
       "    </tr>\n",
       "    <tr>\n",
       "      <th>2;Iceland;Western Europe;7</th>\n",
       "      <th>56100;7</th>\n",
       "      <th>70416;1</th>\n",
       "      <th>00000;73;0</th>\n",
       "      <th>93884;0</th>\n",
       "      <th>54819;0</th>\n",
       "      <td>74371;2015</td>\n",
       "    </tr>\n",
       "    <tr>\n",
       "      <th>3;Denmark;Western Europe;7</th>\n",
       "      <th>52700;7</th>\n",
       "      <th>84114;0</th>\n",
       "      <th>97030;70;0</th>\n",
       "      <th>96962;0</th>\n",
       "      <th>42894;0</th>\n",
       "      <td>12382;2015</td>\n",
       "    </tr>\n",
       "    <tr>\n",
       "      <th>4;Norway;Western Europe;7</th>\n",
       "      <th>52200;8</th>\n",
       "      <th>63100;0</th>\n",
       "      <th>94917;71;1</th>\n",
       "      <th>00000;0</th>\n",
       "      <th>43598;0</th>\n",
       "      <td>33860;2015</td>\n",
       "    </tr>\n",
       "    <tr>\n",
       "      <th>5;Canada;North America and ANZ;7</th>\n",
       "      <th>42700;7</th>\n",
       "      <th>84595;0</th>\n",
       "      <th>94322;71;0</th>\n",
       "      <th>94511;0</th>\n",
       "      <th>57560;0</th>\n",
       "      <td>40285;2015</td>\n",
       "    </tr>\n",
       "  </tbody>\n",
       "</table>\n",
       "</div>"
      ],
      "text/plain": [
       "                                                                            Ranking;Country;Regional indicator;Happiness score;GDP per capita;Social support;Healthy life expectancy;Freedom to make life choices;Generosity;Perceptions of corruption;Year\n",
       "1;Switzerland;Western Europe;7   58700;8 26132;0 96240;73;0 99379;0 37289;0                                         23941;2015                                                                                                                             \n",
       "2;Iceland;Western Europe;7       56100;7 70416;1 00000;73;0 93884;0 54819;0                                         74371;2015                                                                                                                             \n",
       "3;Denmark;Western Europe;7       52700;7 84114;0 97030;70;0 96962;0 42894;0                                         12382;2015                                                                                                                             \n",
       "4;Norway;Western Europe;7        52200;8 63100;0 94917;71;1 00000;0 43598;0                                         33860;2015                                                                                                                             \n",
       "5;Canada;North America and ANZ;7 42700;7 84595;0 94322;71;0 94511;0 57560;0                                         40285;2015                                                                                                                             "
      ]
     },
     "execution_count": 6,
     "metadata": {},
     "output_type": "execute_result"
    }
   ],
   "source": [
    "\n",
    "df.head()"
   ]
  },
  {
   "cell_type": "code",
   "execution_count": 11,
   "id": "755cba27",
   "metadata": {},
   "outputs": [
    {
     "name": "stdout",
     "output_type": "stream",
     "text": [
      "Filas: 152\n",
      "Columnas: 1\n"
     ]
    }
   ],
   "source": [
    "print(\"Filas:\", df.shape[0])\n",
    "print(\"Columnas:\", df.shape[1])"
   ]
  }
 ],
 "metadata": {
  "kernelspec": {
   "display_name": "datalab",
   "language": "python",
   "name": "python3"
  },
  "language_info": {
   "codemirror_mode": {
    "name": "ipython",
    "version": 3
   },
   "file_extension": ".py",
   "mimetype": "text/x-python",
   "name": "python",
   "nbconvert_exporter": "python",
   "pygments_lexer": "ipython3",
   "version": "3.12.11"
  }
 },
 "nbformat": 4,
 "nbformat_minor": 5
}
